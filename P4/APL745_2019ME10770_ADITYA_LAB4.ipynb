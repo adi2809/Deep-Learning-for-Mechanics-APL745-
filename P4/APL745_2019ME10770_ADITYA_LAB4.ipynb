{
  "nbformat": 4,
  "nbformat_minor": 0,
  "metadata": {
    "colab": {
      "name": "APL745_2019ME10770_ADITYA_LAB4.ipynb",
      "provenance": [],
      "collapsed_sections": []
    },
    "kernelspec": {
      "name": "python3",
      "display_name": "Python 3"
    },
    "language_info": {
      "name": "python"
    }
  },
  "cells": [
    {
      "cell_type": "markdown",
      "source": [
        "# Physics Informed Deep Learning (PIDL): \n",
        "\n",
        "we aim to solve the inverse problem, given the incomplete description of the differential equation we need to estimate the paramters given the system response in some physical domain."
      ],
      "metadata": {
        "id": "8J5fBK5p8H7n"
      }
    },
    {
      "cell_type": "markdown",
      "source": [
        "#### Problem Statement: \n",
        "\n",
        "$$\\frac{d^2 u}{dx^2} = f\\left(u, x, \\frac{du}{dx}\\right)$$\n",
        "\n",
        "here to simplify things we are guven with the form of the right hand side (it is independent of $u$, $\\dot{u}$) has a form of $f(x) = ax + b\\sin(cx)$ where $a,\\, b,\\, c \\, \\in \\mathbb{R}$"
      ],
      "metadata": {
        "id": "zgym6MxI8L9J"
      }
    },
    {
      "cell_type": "markdown",
      "source": [
        "#### imports:"
      ],
      "metadata": {
        "id": "Vd--S6wY8PP3"
      }
    },
    {
      "cell_type": "code",
      "source": [
        "import torch \n",
        "import numpy as np \n",
        "import torch.nn as nn\n",
        "import matplotlib.pyplot as plt \n",
        "from torch.autograd import Variable\n",
        "\n",
        "device = torch.device(\"cuda:0\" if torch.cuda.is_available() else \"cpu\")"
      ],
      "metadata": {
        "id": "0Sks7chb8JPq"
      },
      "execution_count": 1,
      "outputs": []
    },
    {
      "cell_type": "markdown",
      "source": [
        "### training data generation:"
      ],
      "metadata": {
        "id": "NzWHD-EtH09u"
      }
    },
    {
      "cell_type": "markdown",
      "source": [
        "1. Boundary Conditions: "
      ],
      "metadata": {
        "id": "a9LeL_50KENM"
      }
    },
    {
      "cell_type": "code",
      "source": [
        "x_bc = np.array([[0], [1]])\n",
        "u_bc = np.array([[0], [0]])"
      ],
      "metadata": {
        "id": "gO-NEUxnKDh7"
      },
      "execution_count": 2,
      "outputs": []
    },
    {
      "cell_type": "markdown",
      "source": [
        "2. Collocation Points: "
      ],
      "metadata": {
        "id": "DbCSkGerKIDH"
      }
    },
    {
      "cell_type": "code",
      "source": [
        "x_coll = np.random.uniform(0, 1, size=(1000, 1))\n",
        "u_coll = (1/48)*(8*x_coll*(x_coll**2-1) - (3/np.pi**2)*np.sin(4*np.pi*x_coll))"
      ],
      "metadata": {
        "id": "y0iQvdlgKHHe"
      },
      "execution_count": 3,
      "outputs": []
    },
    {
      "cell_type": "markdown",
      "source": [
        "3. Residual Values: "
      ],
      "metadata": {
        "id": "gA_BpQ6RKRqS"
      }
    },
    {
      "cell_type": "code",
      "source": [
        "all_res = np.zeros((1000, 1))"
      ],
      "metadata": {
        "id": "C-0hL83UKQO2"
      },
      "execution_count": 4,
      "outputs": []
    },
    {
      "cell_type": "markdown",
      "source": [
        "### proposed network architecture: \n",
        "\n",
        "we create two seperate neural networks, we wish to learn the function $f(x)$. one of the neural networks will do simple computations for the generating the force term and the other will give the gradients (also make sure to satisfy the coundary conditions) use the outputs to form the residual $r(\\ddot{u}, x)$. "
      ],
      "metadata": {
        "id": "Stv9YxmyKYGt"
      }
    },
    {
      "cell_type": "code",
      "source": [
        "class u_net(nn.Module):\n",
        "  def __init__(self):\n",
        "    super(u_net, self).__init__()\n",
        "    self.hidden_layer1 = nn.Linear(1,50)\n",
        "\n",
        "    self.hidden_layer2 = nn.Linear(50,50)\n",
        "    self.hidden_layer3 = nn.Linear(50,50)\n",
        "    self.hidden_layer4 = nn.Linear(50,50)\n",
        "    self.hidden_layer5 = nn.Linear(50,50)\n",
        "    self.hidden_layer6 = nn.Linear(50,50)\n",
        "    \n",
        "    \n",
        "\n",
        "    self.output_layer = nn.Linear(50,1)\n",
        "\n",
        "  def forward(self, x):\n",
        "    inputs = x\n",
        "    layer1_out = torch.tanh(self.hidden_layer1(inputs))\n",
        "    layer2_out = torch.tanh(self.hidden_layer2(layer1_out))\n",
        "    layer3_out = torch.tanh(self.hidden_layer3(layer2_out))\n",
        "    layer4_out = torch.tanh(self.hidden_layer4(layer3_out))\n",
        "    layer5_out = torch.tanh(self.hidden_layer5(layer4_out))\n",
        "    layer6_out = torch.tanh(self.hidden_layer6(layer5_out))\n",
        "\n",
        "\n",
        "    output = self.output_layer(layer6_out) \n",
        "    return output\n",
        "\n",
        "\n",
        "class f_net(nn.Module):\n",
        "  def __init__(self):\n",
        "    super(f_net, self).__init__()\n",
        "    self.hidden_layer1 = nn.Linear(1,150)\n",
        "\n",
        "    self.hidden_layer2 = nn.Linear(150,150)\n",
        "    self.hidden_layer3 = nn.Linear(150,150)\n",
        "    self.hidden_layer4 = nn.Linear(150,150)\n",
        "    self.hidden_layer5 = nn.Linear(150,150)\n",
        "    self.relu1 = nn.ReLU()\n",
        "    self.relu2 = nn.ReLU()\n",
        "    self.relu = nn.ReLU()\n",
        "    self.relu2 = nn.ReLU()\n",
        "    self.relu1 = nn.ReLU()\n",
        "    self.relu2 = nn.ReLU()\n",
        "    self.lrelu1 = nn.LeakyReLU(0.1)\n",
        "    self.lrelu1 = nn.LeakyReLU(0.1)\n",
        "    \n",
        "\n",
        "    self.output_layer = nn.Linear(150,1)\n",
        "\n",
        "  def forward(self, x):\n",
        "    inputs = x\n",
        "    layer1_out = torch.tanh(self.hidden_layer1(inputs))\n",
        "    layer1_out = self.relu1(layer1_out)\n",
        "    layer2_out = torch.tanh(self.hidden_layer2(layer1_out))\n",
        "    layer2_out = self.relu2(layer1_out)\n",
        "    layer3_out = torch.tanh(self.hidden_layer3(layer2_out))\n",
        "    layer4_out = torch.tanh(self.hidden_layer4(layer3_out))\n",
        "    layer4_out = self.lrelu1(layer4_out)\n",
        "    layer5_out = torch.tanh(self.hidden_layer5(layer4_out))\n",
        "    layer5_out = self.lrelu1(layer5_out)\n",
        "    \n",
        "\n",
        "    output = self.output_layer(layer5_out) \n",
        "    return output\n"
      ],
      "metadata": {
        "id": "oSJqMo4lKXQu"
      },
      "execution_count": 9,
      "outputs": []
    },
    {
      "cell_type": "code",
      "source": [
        "UNET = u_net()\n",
        "FNET = f_net()\n",
        "\n",
        "UNET = UNET.to(device)\n",
        "FNET = FNET.to(device)\n",
        "\n",
        "mse = torch.nn.MSELoss()\n",
        "optimizer = torch.optim.Adam(list(UNET.parameters())+ list(FNET.parameters()))"
      ],
      "metadata": {
        "id": "hLiA_fxrM2Ep"
      },
      "execution_count": 10,
      "outputs": []
    },
    {
      "cell_type": "markdown",
      "source": [
        "### residual function: "
      ],
      "metadata": {
        "id": "gMf7tSS7Nrcr"
      }
    },
    {
      "cell_type": "code",
      "source": [
        "def residual(x, UNET, FNET):\n",
        "  u = UNET(x) \n",
        "  f = FNET(x)\n",
        "  u_x = torch.autograd.grad(u.sum(), x, create_graph=True)[0]\n",
        "  u_xx = torch.autograd.grad(u_x.sum(), x, create_graph=True)[0]\n",
        "\n",
        "  ode = u_xx - f\n",
        "  return ode"
      ],
      "metadata": {
        "id": "r8JTH9wPNd_o"
      },
      "execution_count": 11,
      "outputs": []
    },
    {
      "cell_type": "markdown",
      "source": [
        "### training loop: "
      ],
      "metadata": {
        "id": "0xxyCBK9ORKZ"
      }
    },
    {
      "cell_type": "code",
      "source": [
        "iterations = 10000\n",
        "\n",
        "for epoch in range(iterations):\n",
        "  optimizer.zero_grad()\n",
        "\n",
        "  pt_x_bc = Variable(torch.from_numpy(x_bc).float(), requires_grad=False).to(device)\n",
        "  pt_u_bc = Variable(torch.from_numpy(u_bc).float(), requires_grad=False).to(device)\n",
        "\n",
        "  net_bc_out = UNET(pt_x_bc)\n",
        "  mse_bc = mse(net_bc_out, pt_u_bc)\n",
        "\n",
        "  \n",
        "  pt_x_coll = Variable(torch.from_numpy(x_coll).float(), requires_grad=True).to(device)\n",
        "  pt_u_coll = Variable(torch.from_numpy(u_coll).float(), requires_grad=False).to(device)\n",
        "  pt_r_coll = Variable(torch.from_numpy(all_res).float(), requires_grad=False).to(device)\n",
        "\n",
        "  r = residual(pt_x_coll, UNET, FNET)\n",
        "  mse_r = mse(r, pt_r_coll)\n",
        "\n",
        "  u_ = UNET(pt_x_coll)\n",
        "  mse_u = mse(u_, pt_u_coll)\n",
        "\n",
        "  loss = (100*mse_u)+mse_r+mse_bc\n",
        "\n",
        "  loss.sum().backward()\n",
        "  optimizer.step()\n",
        "\n",
        "  if ((epoch+1)%100 == 0):\n",
        "    with torch.autograd.no_grad():\n",
        "      print(f\"{epoch+1}: Loss = {loss.data:10}\")"
      ],
      "metadata": {
        "colab": {
          "base_uri": "https://localhost:8080/"
        },
        "id": "YXPAqLMIOFkB",
        "outputId": "a84fd7ec-7bdb-4c2d-a36f-5bd8e18bb024"
      },
      "execution_count": 12,
      "outputs": [
        {
          "output_type": "stream",
          "name": "stdout",
          "text": [
            "100: Loss = 0.034995004534721375\n",
            "200: Loss = 0.0015192041173577309\n",
            "300: Loss = 0.0011691305553540587\n",
            "400: Loss = 0.0011417544446885586\n",
            "500: Loss = 0.0012683342210948467\n",
            "600: Loss = 0.0015420297859236598\n",
            "700: Loss = 0.0010083680972456932\n",
            "800: Loss = 0.0009853182127699256\n",
            "900: Loss = 0.0009348450694233179\n",
            "1000: Loss = 0.0009207188850268722\n",
            "1100: Loss = 0.0009549676906317472\n",
            "1200: Loss = 0.0017711137188598514\n",
            "1300: Loss = 0.000749438360799104\n",
            "1400: Loss = 0.0007411062251776457\n",
            "1500: Loss = 0.0006549595855176449\n",
            "1600: Loss = 0.0006119847530499101\n",
            "1700: Loss = 0.0006452911184169352\n",
            "1800: Loss = 0.000513532548211515\n",
            "1900: Loss = 0.00047535746125504375\n",
            "2000: Loss = 0.0023490197490900755\n",
            "2100: Loss = 0.00039682211354374886\n",
            "2200: Loss = 0.00037964156945236027\n",
            "2300: Loss = 0.0003162242937833071\n",
            "2400: Loss = 0.0003472869284451008\n",
            "2500: Loss = 0.00028370582731440663\n",
            "2600: Loss = 0.00025699473917484283\n",
            "2700: Loss = 0.0019570444710552692\n",
            "2800: Loss = 0.00022537415497936308\n",
            "2900: Loss = 0.00021199288312345743\n",
            "3000: Loss = 0.0003572131390683353\n",
            "3100: Loss = 0.0001955037732841447\n",
            "3200: Loss = 0.00015562519547529519\n",
            "3300: Loss = 0.0001536921045044437\n",
            "3400: Loss = 0.0023882039822638035\n",
            "3500: Loss = 0.0001537658681627363\n",
            "3600: Loss = 0.00012164284999016672\n",
            "3700: Loss = 0.00012870195496361703\n",
            "3800: Loss = 0.0002064642176264897\n",
            "3900: Loss = 0.00011417078349040821\n",
            "4000: Loss = 0.0003686739655677229\n",
            "4100: Loss = 9.10633389139548e-05\n",
            "4200: Loss = 0.00012161403719801456\n",
            "4300: Loss = 9.43318591453135e-05\n",
            "4400: Loss = 7.927647675387561e-05\n",
            "4500: Loss = 0.0005982185830362141\n",
            "4600: Loss = 6.741856486769393e-05\n",
            "4700: Loss = 5.8872443332802504e-05\n",
            "4800: Loss = 6.915310223121196e-05\n",
            "4900: Loss = 4.850676850765012e-05\n",
            "5000: Loss = 6.620933709200472e-05\n",
            "5100: Loss = 9.067065548151731e-05\n",
            "5200: Loss = 4.50267361884471e-05\n",
            "5300: Loss = 4.584647831507027e-05\n",
            "5400: Loss = 9.509207302471623e-05\n",
            "5500: Loss = 4.00663266191259e-05\n",
            "5600: Loss = 4.346289279055782e-05\n",
            "5700: Loss = 5.121279536979273e-05\n",
            "5800: Loss = 7.035868475213647e-05\n",
            "5900: Loss = 3.136171289952472e-05\n",
            "6000: Loss = 5.0651698984438553e-05\n",
            "6100: Loss = 3.265475243097171e-05\n",
            "6200: Loss = 3.0170800528139807e-05\n",
            "6300: Loss = 3.6862493288936093e-05\n",
            "6400: Loss = 5.7840738008962944e-05\n",
            "6500: Loss = 2.9848231861251406e-05\n",
            "6600: Loss = 3.0120419978629798e-05\n",
            "6700: Loss = 2.8006934371660464e-05\n",
            "6800: Loss = 0.00028485446819104254\n",
            "6900: Loss = 2.8123686206527054e-05\n",
            "7000: Loss = 0.00018007100152317435\n",
            "7100: Loss = 0.00018753623589873314\n",
            "7200: Loss = 2.332389703951776e-05\n",
            "7300: Loss = 0.0001273824746022001\n",
            "7400: Loss = 0.00013877268065698445\n",
            "7500: Loss = 2.035863872151822e-05\n",
            "7600: Loss = 3.6176683352096006e-05\n",
            "7700: Loss = 1.806866202969104e-05\n",
            "7800: Loss = 2.2870483007864095e-05\n",
            "7900: Loss = 0.00015481887385249138\n",
            "8000: Loss = 1.814572351577226e-05\n",
            "8100: Loss = 2.1590403775917366e-05\n",
            "8200: Loss = 5.334777233656496e-05\n",
            "8300: Loss = 1.4857689166092314e-05\n",
            "8400: Loss = 1.7426093108952045e-05\n",
            "8500: Loss = 4.152682231506333e-05\n",
            "8600: Loss = 0.0002841655514203012\n",
            "8700: Loss = 1.3464034054777585e-05\n",
            "8800: Loss = 2.4900298740249127e-05\n",
            "8900: Loss = 3.426747571211308e-05\n",
            "9000: Loss = 0.00025990349240601063\n",
            "9100: Loss = 0.0007647902239114046\n",
            "9200: Loss = 0.0007131393649615347\n",
            "9300: Loss = 1.3377245522860903e-05\n",
            "9400: Loss = 2.2564212486031465e-05\n",
            "9500: Loss = 1.551638706587255e-05\n",
            "9600: Loss = 0.0013763755559921265\n",
            "9700: Loss = 1.217367116623791e-05\n",
            "9800: Loss = 4.23033743572887e-05\n",
            "9900: Loss = 1.2829206752940081e-05\n",
            "10000: Loss = 0.0002912701456807554\n"
          ]
        }
      ]
    },
    {
      "cell_type": "markdown",
      "source": [
        "### predicting the force function: "
      ],
      "metadata": {
        "id": "ukv6LyBhQTkO"
      }
    },
    {
      "cell_type": "code",
      "source": [
        "with torch.autograd.no_grad():\n",
        "  learned_forcing_function = FNET(Variable(torch.from_numpy(x_coll).float(), requires_grad=True).to(device))\n",
        "\n",
        "plt.scatter(x_coll, learned_forcing_function.numpy())\n",
        "plt.scatter(x_coll, x_coll + np.sin(4*np.pi*x_coll))"
      ],
      "metadata": {
        "colab": {
          "base_uri": "https://localhost:8080/",
          "height": 283
        },
        "id": "JOkIBxCJQW7L",
        "outputId": "8b57fcf3-6808-4556-a5f4-7066dc2f2667"
      },
      "execution_count": 13,
      "outputs": [
        {
          "output_type": "execute_result",
          "data": {
            "text/plain": [
              "<matplotlib.collections.PathCollection at 0x7f1ea1801590>"
            ]
          },
          "metadata": {},
          "execution_count": 13
        },
        {
          "output_type": "display_data",
          "data": {
            "text/plain": [
              "<Figure size 432x288 with 1 Axes>"
            ],
            "image/png": "[encoded data removed]"
          },
          "metadata": {
            "needs_background": "light"
          }
        }
      ]
    },
    {
      "cell_type": "code",
      "source": [
        "with torch.autograd.no_grad():\n",
        "  learned_trajectory = UNET(Variable(torch.from_numpy(x_coll).float(), requires_grad=True).to(device))\n",
        "\n",
        "plt.scatter(x_coll, learned_trajectory.numpy())\n",
        "plt.scatter(x_coll, u_coll)"
      ],
      "metadata": {
        "colab": {
          "base_uri": "https://localhost:8080/",
          "height": 283
        },
        "id": "RGPvrZTQbINt",
        "outputId": "79adc08d-d5dd-43d2-9d78-c5c7825bf9d9"
      },
      "execution_count": 14,
      "outputs": [
        {
          "output_type": "execute_result",
          "data": {
            "text/plain": [
              "<matplotlib.collections.PathCollection at 0x7f1ea12f5650>"
            ]
          },
          "metadata": {},
          "execution_count": 14
        },
        {
          "output_type": "display_data",
          "data": {
            "text/plain": [
              "<Figure size 432x288 with 1 Axes>"
            ],
            "image/png": "[encoded data removed]"
          },
          "metadata": {
            "needs_background": "light"
          }
        }
      ]
    }
  ]
}