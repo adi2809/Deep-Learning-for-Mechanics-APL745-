{
  "nbformat": 4,
  "nbformat_minor": 0,
  "metadata": {
    "colab": {
      "name": "Q1_100.ipynb",
      "provenance": [],
      "collapsed_sections": []
    },
    "kernelspec": {
      "name": "python3",
      "display_name": "Python 3"
    },
    "language_info": {
      "name": "python"
    }
  },
  "cells": [
    {
      "cell_type": "markdown",
      "source": [
        "#Library Imports: "
      ],
      "metadata": {
        "id": "2QiMFfK7R5Rz"
      }
    },
    {
      "cell_type": "code",
      "execution_count": 13,
      "metadata": {
        "id": "W3LkeUw5Qzde"
      },
      "outputs": [],
      "source": [
        "import torch \n",
        "import numpy as np \n",
        "import torch.nn as nn\n",
        "import matplotlib.pyplot as plt \n",
        "from torch.autograd import Variable\n",
        "\n",
        "device = torch.device(\"cuda:0\" if torch.cuda.is_available() else \"cpu\")"
      ]
    },
    {
      "cell_type": "markdown",
      "source": [
        "# Study of Linear Conduction (Heat): \n",
        "\n",
        "given two rods of length $\\left(l=1\\right)$ and conductivities $D_1$ and $D_2$ we need to find the temperature distribution inside the rods $U_1$ and $U_2$ respectively. "
      ],
      "metadata": {
        "id": "PDUi1RHmQ3ey"
      }
    },
    {
      "cell_type": "markdown",
      "source": [
        "##Proposed Algorithm: \n",
        "\n",
        "\n",
        "\n",
        "\n",
        "```\n",
        "1.generate the boundary conditions at x=0, 1, 2. \n",
        "2.generate the system response at the boundaries.\n",
        "3.generate the collocation points for each rod. \n",
        "4.generate the corresponding residuals for each. \n",
        "5.define two networks for u1 and u2 respectively.\n",
        "6.define the residual to be (d_i * u''_i - 0). \n",
        "\n",
        "for epoch in range epochs: \n",
        "  u1bc = net1(x1bc)\n",
        "  u2bc = net2(x2bc) \n",
        "\n",
        "  boundary_loss = mse(u1bc, 0)+mse(u2bc, 100) + (loss for x=1 conditions)\n",
        "  residual_loss = mse(residual(net1(x1), 0)) + mse(residual(net2(x2), 0))\n",
        "\n",
        "  loss = residual_loss + boundary_loss\n",
        "  loss.backpropagate()\n",
        "  optimise the params. \n",
        "\n",
        "\n",
        "\n",
        "```\n",
        "\n",
        "\n",
        "\n"
      ],
      "metadata": {
        "id": "jViKxPAi3Flt"
      }
    },
    {
      "cell_type": "markdown",
      "source": [
        "###training data generation: "
      ],
      "metadata": {
        "id": "2NouaMrQSSNV"
      }
    },
    {
      "cell_type": "code",
      "source": [
        "x_bc_1 = np.zeros((10, 1))\n",
        "x_bc_2 = 2*np.ones((10, 1))\n",
        "\n",
        "u_bc_1 =  np.zeros((10, 1))\n",
        "u_bc_2 = 1e2*np.ones((10, 1))\n",
        "\n",
        "x_coll_1 = np.sort(np.random.uniform(0, 1, size=(100, 1)))\n",
        "x_coll_2 = np.sort(np.random.uniform(1, 2, size=(100, 1)))\n",
        "\n",
        "residuals_1 = np.zeros((100, 1))\n",
        "residuals_2 = np.zeros((100, 1))"
      ],
      "metadata": {
        "id": "cOnp60slSUtV"
      },
      "execution_count": 14,
      "outputs": []
    },
    {
      "cell_type": "markdown",
      "source": [
        "###network architecture: "
      ],
      "metadata": {
        "id": "AQwtPNp3UM-R"
      }
    },
    {
      "cell_type": "code",
      "source": [
        "class net(nn.Module):\n",
        "  def __init__(self, lb, ub):\n",
        "    super(net, self).__init__()\n",
        "    self.hidden_layer1 = nn.Linear(1,250)\n",
        "\n",
        "    self.hidden_layer2 = nn.Linear(250,250)\n",
        "    self.hidden_layer3 = nn.Linear(250,250)\n",
        "    self.hidden_layer4 = nn.Linear(250,250)\n",
        "    self.hidden_layer5 = nn.Linear(250,250)\n",
        "    \n",
        "    # self.dropout1 = nn.Dropout(0.1)\n",
        "    # self.dropout2 = nn.Dropout(0.1)\n",
        "    # self.dropout3 = nn.Dropout(0.1)\n",
        "    # self.dropout4 = nn.Dropout(0.1)\n",
        "    self.relu1 = nn.ReLU()\n",
        "    self.relu2 = nn.ReLU()\n",
        "    self.relu3 = nn.ReLU()\n",
        "    self.relu4 = nn.ReLU()\n",
        "    self.relu5 = nn.ReLU()\n",
        "    self.relu6 = nn.ReLU()\n",
        "\n",
        "    self.lrelu1 = nn.LeakyReLU(0.9)\n",
        "    self.lrelu1 = nn.LeakyReLU(0.9)\n",
        "    \n",
        "\n",
        "    self.output_layer = nn.Linear(250,1)\n",
        "    self.lb = lb\n",
        "    self.ub = ub \n",
        "\n",
        "  def forward(self, x):\n",
        "    inputs = (2*(self.ub-self.lb))*x-((self.lb+self.ub)/self.ub-self.lb)*100\n",
        "\n",
        "    layer1_out = self.hidden_layer1(inputs)\n",
        "    layer1_out = self.relu1(layer1_out)\n",
        "    # layer1_out = self.dropout1(layer1_out)\n",
        "    layer2_out = self.hidden_layer2(layer1_out)\n",
        "    layer2_out = self.relu2(layer2_out)\n",
        "    # layer2_out = self.dropout2(layer1_out)\n",
        "    layer3_out = self.hidden_layer3(layer2_out)\n",
        "    layer4_out = self.hidden_layer4(layer3_out)\n",
        "    layer4_out = self.lrelu1(layer4_out)\n",
        "    layer5_out = self.hidden_layer5(layer4_out)\n",
        "    layer5_out = self.lrelu1(layer5_out)\n",
        "    # layer5_out = self.dropout3(layer5_out)\n",
        "    # layer6_out = self.hidden_layer6(layer5_out)\n",
        "    # layer6_out = self.relu3(layer6_out)\n",
        "    # layer7_out = self.hidden_layer7(layer6_out)\n",
        "    # layer7_out = self.dropout4(layer7_out)\n",
        "    # layer7_out = self.relu4(layer7_out)\n",
        "    # layer8_out = self.hidden_layer8(layer7_out)\n",
        "    # layer8_out = self.relu5(layer8_out)\n",
        "    # layer9_out = self.hidden_layer9(layer8_out)\n",
        "    # layer9_out = self.relu6(layer9_out)\n",
        "    \n",
        "\n",
        "    output = self.output_layer(layer5_out) \n",
        "    return output"
      ],
      "metadata": {
        "id": "rYbGp9tOUCQt"
      },
      "execution_count": 15,
      "outputs": []
    },
    {
      "cell_type": "code",
      "source": [
        "net1 = net(0, 1)\n",
        "net2 = net(1, 2)\n",
        "\n",
        "net1 = net1.to(device)\n",
        "net2 = net2.to(device)\n",
        "\n",
        "mse = torch.nn.MSELoss()\n",
        "optimizer = torch.optim.Adam(list(net1.parameters())+ list(net2.parameters()))"
      ],
      "metadata": {
        "id": "aBqjndpQURH4"
      },
      "execution_count": 16,
      "outputs": []
    },
    {
      "cell_type": "markdown",
      "source": [
        "### defining the residual:"
      ],
      "metadata": {
        "id": "5_F11tq-UmLu"
      }
    },
    {
      "cell_type": "code",
      "source": [
        "def residual_func(x, net, d):\n",
        "  u = net(x)\n",
        "  d_times_u_x = d*torch.autograd.grad(u.sum(), x, create_graph=True)[0]\n",
        "  d_times_u_xx = torch.autograd.grad(d_times_u_x.sum(), x, create_graph=True)[0]\n",
        "\n",
        "  ode = d_times_u_xx\n",
        "  return ode"
      ],
      "metadata": {
        "id": "v8cjTSnvUk0Y"
      },
      "execution_count": 17,
      "outputs": []
    },
    {
      "cell_type": "markdown",
      "source": [
        "###training loop: "
      ],
      "metadata": {
        "id": "2q-jlbydVhV-"
      }
    },
    {
      "cell_type": "code",
      "source": [
        "import sys \n",
        "\n",
        "x_bc_3 = np.ones((100, 1))\n",
        "u_bc_3 = np.zeros((100, 1))\n",
        "\n",
        "iterations = 10000\n",
        "d1 = 10.0\n",
        "d2 = 0.10\n",
        "\n",
        "l = 1e40\n",
        "\n",
        "for epoch in range(iterations):\n",
        "  optimizer.zero_grad()\n",
        "\n",
        "  pt_x_bc_1 = Variable(torch.from_numpy(x_bc_1).float(), requires_grad=False).to(device)\n",
        "  pt_x_bc_2 = Variable(torch.from_numpy(x_bc_2).float(), requires_grad=False).to(device)\n",
        "  pt_u_bc_1 = Variable(torch.from_numpy(u_bc_1).float(), requires_grad=False).to(device)\n",
        "  pt_u_bc_2 = Variable(torch.from_numpy(u_bc_2).float(), requires_grad=False).to(device)\n",
        "\n",
        "  pt_x_bc_3 = Variable(torch.from_numpy(x_bc_3).float(), requires_grad=True).to(device)\n",
        "  pt_u_bc_3 = Variable(torch.from_numpy(u_bc_3).float(), requires_grad=False).to(device)\n",
        "\n",
        "  net_bc_out_1 = net1(pt_x_bc_1)\n",
        "  net_bc_out_2 = net2(pt_x_bc_2)\n",
        "\n",
        "  net_bc_out_11 = net1(pt_x_bc_3)\n",
        "  net_bc_out_22 = net2(pt_x_bc_3)\n",
        "\n",
        "  net_bc_out_111 = d1*torch.autograd.grad(net_bc_out_11.sum(), pt_x_bc_3, create_graph=True)[0]\n",
        "  net_bc_out_222 = d2*torch.autograd.grad(net_bc_out_22.sum(), pt_x_bc_3, create_graph=True)[0]\n",
        "\n",
        "  mse_bc = 1e8*mse(net_bc_out_1, pt_u_bc_1)+1e8*mse(net_bc_out_2, pt_u_bc_2)+1e8*(mse(net_bc_out_11-net_bc_out_22, pt_u_bc_3))+1*(mse(net_bc_out_111-net_bc_out_222, pt_u_bc_3))\n",
        "\n",
        "  \n",
        "  pt_x_coll_1 = Variable(torch.from_numpy(x_coll_1).float(), requires_grad=True).to(device)\n",
        "  pt_x_coll_2 = Variable(torch.from_numpy(x_coll_2).float(), requires_grad=True).to(device)\n",
        "  \n",
        "  pt_r_coll_1 = Variable(torch.from_numpy(residuals_1).float(), requires_grad=False).to(device)\n",
        "  pt_r_coll_2 = Variable(torch.from_numpy(residuals_2).float(), requires_grad=False).to(device)\n",
        "\n",
        "  r1 = residual_func(pt_x_coll_1, net1, d1)\n",
        "  r2 = residual_func(pt_x_coll_2, net2, d2)\n",
        "  mse_r = 1e4*mse(r1, pt_r_coll_1)+1e2*mse(r2, pt_r_coll_2)\n",
        "\n",
        "  loss = (1*mse_r)+(1*mse_bc)\n",
        "\n",
        "  if loss.item()<l:\n",
        "    torch.save(net1, \"net1.pth\")\n",
        "    torch.save(net2, \"net2.pth\")\n",
        "    l = loss.item()\n",
        "\n",
        "  loss.backward()\n",
        "  optimizer.step()\n",
        "\n",
        "  if ((epoch+1)%1000 == 0):\n",
        "    with torch.autograd.no_grad():\n",
        "      print(f\"{epoch+1}: Loss = {loss.data:10}\")"
      ],
      "metadata": {
        "colab": {
          "base_uri": "https://localhost:8080/"
        },
        "id": "NDLqOicOVgad",
        "outputId": "bc551869-8b62-4b3f-c77a-bc0e420d5569"
      },
      "execution_count": 18,
      "outputs": [
        {
          "output_type": "stream",
          "name": "stdout",
          "text": [
            "1000: Loss = 404992360448.0\n",
            "2000: Loss = 310365421568.0\n",
            "3000: Loss = 2598675968.0\n",
            "4000: Loss = 271547552.0\n",
            "5000: Loss = 208997104.0\n",
            "6000: Loss = 193924202496.0\n",
            "7000: Loss = 78523138048.0\n",
            "8000: Loss = 41055000.0\n",
            "9000: Loss = 280073920.0\n",
            "10000: Loss = 5079056384.0\n"
          ]
        }
      ]
    },
    {
      "cell_type": "markdown",
      "source": [
        "###visualising the results: "
      ],
      "metadata": {
        "id": "-vbXFmlCiqDC"
      }
    },
    {
      "cell_type": "code",
      "source": [
        "net1 = torch.load('net1.pth')\n",
        "net2 = torch.load('net2.pth')"
      ],
      "metadata": {
        "id": "41O3BoT2i0bX"
      },
      "execution_count": 19,
      "outputs": []
    },
    {
      "cell_type": "code",
      "source": [
        "with torch.autograd.no_grad():\n",
        "  solution1 = net1(Variable(torch.from_numpy(x_coll_1).float(), requires_grad=True).to(device))\n",
        "  # solution2 = net2(Variable(torch.from_numpy(x_coll_2).float(), requires_grad=True).to(device))\n",
        "\n",
        "plt.plot(x_coll_1, solution1.numpy())\n",
        "# plt.scatter(x_coll_2, solution2.numpy())"
      ],
      "metadata": {
        "colab": {
          "base_uri": "https://localhost:8080/",
          "height": 283
        },
        "id": "AZlbbXgfbKyc",
        "outputId": "c582907f-7470-486b-82a2-1d9e43d9b4d1"
      },
      "execution_count": 20,
      "outputs": [
        {
          "output_type": "execute_result",
          "data": {
            "text/plain": [
              "[<matplotlib.lines.Line2D at 0x7fabedb02390>]"
            ]
          },
          "metadata": {},
          "execution_count": 20
        },
        {
          "output_type": "display_data",
          "data": {
            "text/plain": [
              "<Figure size 432x288 with 1 Axes>"
            ],
            "image/png": "[encoded data removed]"
          },
          "metadata": {
            "needs_background": "light"
          }
        }
      ]
    },
    {
      "cell_type": "code",
      "source": [
        "with torch.autograd.no_grad():\n",
        "  # solution1 = net1(Variable(torch.from_numpy(x_coll_1).float(), requires_grad=True).to(device))\n",
        "  solution2 = net2(Variable(torch.from_numpy(x_coll_2).float(), requires_grad=True).to(device))\n",
        "\n",
        "# plt.scatter(x_coll_1, solution1.numpy())\n",
        "plt.plot(x_coll_2, solution2.numpy())"
      ],
      "metadata": {
        "id": "YV24_HX3cOJ_",
        "colab": {
          "base_uri": "https://localhost:8080/",
          "height": 283
        },
        "outputId": "2f4b47b6-f0cd-4b34-9432-7b0ccb0ac69e"
      },
      "execution_count": 21,
      "outputs": [
        {
          "output_type": "execute_result",
          "data": {
            "text/plain": [
              "[<matplotlib.lines.Line2D at 0x7fabedadd550>]"
            ]
          },
          "metadata": {},
          "execution_count": 21
        },
        {
          "output_type": "display_data",
          "data": {
            "text/plain": [
              "<Figure size 432x288 with 1 Axes>"
            ],
            "image/png": "[encoded data removed]"
          },
          "metadata": {
            "needs_background": "light"
          }
        }
      ]
    },
    {
      "cell_type": "code",
      "source": [
        "with torch.autograd.no_grad():\n",
        "  solution1 = net1(Variable(torch.from_numpy(np.linspace(0, 1, 100).reshape((100, 1))).float(), requires_grad=True).to(device))\n",
        "  solution2 = net2(Variable(torch.from_numpy(np.linspace(1, 2, 100).reshape((100, 1))).float(), requires_grad=True).to(device))\n",
        "\n",
        "plt.plot(np.linspace(0, 1, 100).reshape((100, 1)), solution1.numpy())\n",
        "plt.plot(np.linspace(1, 2, 100).reshape((100, 1)), solution2.numpy())"
      ],
      "metadata": {
        "colab": {
          "base_uri": "https://localhost:8080/",
          "height": 283
        },
        "id": "uYf9GON6dYiv",
        "outputId": "08e678a2-c35c-4ab6-9e95-efc9a6e3e8c7"
      },
      "execution_count": 22,
      "outputs": [
        {
          "output_type": "execute_result",
          "data": {
            "text/plain": [
              "[<matplotlib.lines.Line2D at 0x7fabeda53490>]"
            ]
          },
          "metadata": {},
          "execution_count": 22
        },
        {
          "output_type": "display_data",
          "data": {
            "text/plain": [
              "<Figure size 432x288 with 1 Axes>"
            ],
            "image/png": "[encoded data removed]"
          },
          "metadata": {
            "needs_background": "light"
          }
        }
      ]
    }
  ]
}